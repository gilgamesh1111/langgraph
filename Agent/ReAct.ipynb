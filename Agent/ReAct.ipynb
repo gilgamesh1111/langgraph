{
 "cells": [
  {
   "cell_type": "code",
   "execution_count": 4,
   "id": "2ec10e84",
   "metadata": {},
   "outputs": [
    {
     "data": {
      "text/plain": [
       "True"
      ]
     },
     "execution_count": 4,
     "metadata": {},
     "output_type": "execute_result"
    }
   ],
   "source": [
    "from typing import Annotated,Sequence,TypedDict\n",
    "from dotenv import load_dotenv\n",
    "from langchain_core.messages import HumanMessage,AIMessage,BaseMessage,SystemMessage,ToolMessage\n",
    "from langgraph.graph import StateGraph,START,END\n",
    "from langchain_community.chat_models import ChatTongyi\n",
    "from langchain_core.tools import tool\n",
    "from langgraph.graph.message import add_messages\n",
    "from langgraph.prebuilt import ToolNode\n",
    "\n",
    "load_dotenv()"
   ]
  },
  {
   "cell_type": "markdown",
   "id": "f6495268",
   "metadata": {},
   "source": [
    "Annotated - Provides additional context without affectng the type itself  \n",
    "Sequence - To automatically handle the state updates for sequences such as by adding new messages to a chat history  \n",
    "\n",
    "Reducer Function -\n",
    "Rule that controls how updates from nodes are combined with the existing state.\n",
    "Tells us how to merge new data into the current state.  \n",
    "Without a reducer , updates would have replaced the existing value entirely!"
   ]
  },
  {
   "cell_type": "code",
   "execution_count": 5,
   "id": "8fb0f1d2",
   "metadata": {},
   "outputs": [],
   "source": [
    "class AgentState(TypedDict):\n",
    "    messages: Annotated[Sequence[BaseMessage], add_messages]"
   ]
  },
  {
   "cell_type": "code",
   "execution_count": 20,
   "id": "67ed7f93",
   "metadata": {},
   "outputs": [],
   "source": [
    "@tool\n",
    "def add(a: int, b: int) -> int:\n",
    "    \"\"\"Add two numbers.\"\"\"\n",
    "    return a + b\n",
    "@tool\n",
    "def subtract(a: int, b: int) -> int:\n",
    "    \"\"\"Subtract two numbers.\"\"\"\n",
    "    return a - b\n",
    "\n",
    "@tool\n",
    "def multiply(a: int, b: int) -> int:\n",
    "    \"\"\"Multiply two numbers.\"\"\"\n",
    "    return a * b\n",
    "\n",
    "tools=[add, subtract, multiply]\n",
    "\n",
    "llm= ChatTongyi(model=\"qwen-plus\").bind_tools(tools)"
   ]
  },
  {
   "cell_type": "code",
   "execution_count": 21,
   "id": "c5f3600b",
   "metadata": {},
   "outputs": [],
   "source": [
    "def model_call(state: AgentState) -> AgentState:\n",
    "    system_prompt=SystemMessage(\n",
    "        content=\"You are my AI assistant, please answer my quary to the best of your ability.\")\n",
    "    response=llm.invoke([system_prompt]+state[\"messages\"])\n",
    "    return {\"messages\":response}\n",
    "\n",
    "def should_continue(state: AgentState):\n",
    "    messages=state[\"messages\"]\n",
    "    last_message=messages[-1]\n",
    "    if not last_message.tool_calls:\n",
    "        return \"END\"\n",
    "    else:\n",
    "        return \"continue\"\n",
    "    \n",
    "graph = StateGraph(AgentState)\n",
    "tool_node= ToolNode(\n",
    "    tools=tools\n",
    ")\n",
    "graph.add_node(\"our_agent\", model_call)\n",
    "graph.add_node(\"tool_node\", tool_node)\n",
    "\n",
    "graph.add_edge(START, \"our_agent\")\n",
    "graph.add_conditional_edges(\n",
    "    \"our_agent\",should_continue,{\"continue\": \"tool_node\", \"END\": END})\n",
    "graph.add_edge(\"tool_node\", \"our_agent\")\n",
    "agent=graph.compile()"
   ]
  },
  {
   "cell_type": "code",
   "execution_count": 22,
   "id": "a3096f75",
   "metadata": {},
   "outputs": [
    {
     "data": {
      "image/png": "[encoded data removed]",
      "text/plain": [
       "<IPython.core.display.Image object>"
      ]
     },
     "metadata": {},
     "output_type": "display_data"
    }
   ],
   "source": [
    "from IPython.display import display, Image\n",
    "\n",
    "display(Image(agent.get_graph().draw_mermaid_png()))\n"
   ]
  },
  {
   "cell_type": "code",
   "execution_count": 23,
   "id": "53f96918",
   "metadata": {},
   "outputs": [],
   "source": [
    "def print_stream(stream):\n",
    "    for s in stream:\n",
    "        message=s[\"messages\"][-1]\n",
    "        if isinstance(message,tuple):\n",
    "            print(message)\n",
    "        else:\n",
    "            message.pretty_print()"
   ]
  },
  {
   "cell_type": "code",
   "execution_count": 25,
   "id": "0ac9314b",
   "metadata": {},
   "outputs": [
    {
     "name": "stdout",
     "output_type": "stream",
     "text": [
      "================================\u001b[1m Human Message \u001b[0m=================================\n",
      "\n",
      "User: 17+52 等于几?,18*24呢？然后对我讲一个笑话\n",
      "==================================\u001b[1m Ai Message \u001b[0m==================================\n",
      "Tool Calls:\n",
      "  add (call_1772e1dffcfa4ccc97ec8c)\n",
      " Call ID: call_1772e1dffcfa4ccc97ec8c\n",
      "  Args:\n",
      "    a: 17\n",
      "    b: 52\n",
      "=================================\u001b[1m Tool Message \u001b[0m=================================\n",
      "Name: add\n",
      "\n",
      "69\n",
      "==================================\u001b[1m Ai Message \u001b[0m==================================\n",
      "Tool Calls:\n",
      "  multiply (call_a2079d6f287944908f23c3)\n",
      " Call ID: call_a2079d6f287944908f23c3\n",
      "  Args:\n",
      "    a: 18\n",
      "    b: 24\n",
      "=================================\u001b[1m Tool Message \u001b[0m=================================\n",
      "Name: multiply\n",
      "\n",
      "432\n",
      "==================================\u001b[1m Ai Message \u001b[0m==================================\n",
      "\n",
      "计算结果为：17+52等于69，18*24等于432。\n",
      "\n",
      "这是一个笑话给您：为什么电脑很差劲时会感到非常沮丧？ 因为它知道，无论如何努力，某些程序始终无法“运行”！\n"
     ]
    }
   ],
   "source": [
    "mess={\"messages\": [\"User: 17+52 等于几?,18*24呢？然后对我讲一个笑话\"]}\n",
    "print_stream(agent.stream(mess,stream_mode=\"values\"))"
   ]
  },
  {
   "cell_type": "markdown",
   "id": "c8208707",
   "metadata": {},
   "source": [
    "```json\n",
    "{'messages': [HumanMessage(content='User: 17+52 等于几?,18+24呢？', additional_kwargs={}, response_metadata={}, id='08dfcca3-8e8e-48e3-b021-82e4d1d507b3'),\n",
    "  AIMessage(content='', additional_kwargs={'tool_calls': [{'index': 0, 'id': 'call_de97ecf95c2547849794af', 'type': 'function', 'function': {'name': 'add', 'arguments': '{\"a\": 17, \"b\": 52}'}}]}, response_metadata={'model_name': 'qwen-plus', 'finish_reason': 'tool_calls', 'request_id': '575b19b4-1db7-947a-bf2e-6b6f33883711', 'token_usage': {'input_tokens': 204, 'output_tokens': 24, 'total_tokens': 228, 'prompt_tokens_details': {'cached_tokens': 0}}}, id='run--a13c09f6-9454-43db-93e2-763f1fc73a38-0', tool_calls=[{'name': 'add', 'args': {'a': 17, 'b': 52}, 'id': 'call_de97ecf95c2547849794af', 'type': 'tool_call'}]),\n",
    "  ToolMessage(content='69', name='add', id='d63563ef-b87c-4185-91be-5debfdd57538', tool_call_id='call_de97ecf95c2547849794af'),\n",
    "  AIMessage(content='', additional_kwargs={'tool_calls': [{'index': 0, 'id': 'call_ed75d2b9b9d24e778b06ca', 'type': 'function', 'function': {'name': 'add', 'arguments': '{\"a\": 18, \"b\": 24}'}}]}, response_metadata={'model_name': 'qwen-plus', 'finish_reason': 'tool_calls', 'request_id': '80cda3e9-e131-9688-9b32-699888f97dfb', 'token_usage': {'input_tokens': 239, 'output_tokens': 26, 'total_tokens': 265, 'prompt_tokens_details': {'cached_tokens': 0}}}, id='run--af42a47a-3120-4671-aab1-5fbce28ecd82-0', tool_calls=[{'name': 'add', 'args': {'a': 18, 'b': 24}, 'id': 'call_ed75d2b9b9d24e778b06ca', 'type': 'tool_call'}]),\n",
    "  ToolMessage(content='42', name='add', id='be3957bd-97ef-406e-98e8-61067b277d12', tool_call_id='call_ed75d2b9b9d24e778b06ca'),\n",
    "  AIMessage(content='17 + 52 等于 69，而 18 + 24 等于 42。', additional_kwargs={}, response_metadata={'model_name': 'qwen-plus', 'finish_reason': 'stop', 'request_id': 'b1d65b51-9e45-9252-b268-9ab34c7e8ad1', 'token_usage': {'input_tokens': 276, 'output_tokens': 32, 'total_tokens': 308, 'prompt_tokens_details': {'cached_tokens': 0}}}, id='run--940048a9-5c28-4d67-b8bf-9e4e427d0683-0')]}"
   ]
  },
  {
   "cell_type": "code",
   "execution_count": null,
   "id": "61876725",
   "metadata": {},
   "outputs": [],
   "source": []
  }
 ],
 "metadata": {
  "kernelspec": {
   "display_name": "langchain",
   "language": "python",
   "name": "python3"
  },
  "language_info": {
   "codemirror_mode": {
    "name": "ipython",
    "version": 3
   },
   "file_extension": ".py",
   "mimetype": "text/x-python",
   "name": "python",
   "nbconvert_exporter": "python",
   "pygments_lexer": "ipython3",
   "version": "3.11.13"
  }
 },
 "nbformat": 4,
 "nbformat_minor": 5
}
