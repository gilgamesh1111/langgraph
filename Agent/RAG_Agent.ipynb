{
 "cells": [
  {
   "cell_type": "code",
   "execution_count": 1,
   "id": "262ca935",
   "metadata": {},
   "outputs": [
    {
     "data": {
      "text/plain": [
       "True"
      ]
     },
     "execution_count": 1,
     "metadata": {},
     "output_type": "execute_result"
    }
   ],
   "source": [
    "from typing import Annotated,Sequence,TypedDict,List\n",
    "from dotenv import load_dotenv\n",
    "from langchain_core.messages import HumanMessage,AIMessage,BaseMessage,SystemMessage,ToolMessage\n",
    "from langgraph.graph import StateGraph,START,END\n",
    "from langchain_community.chat_models import ChatTongyi\n",
    "from langchain_core.tools import tool\n",
    "from langgraph.graph.message import add_messages\n",
    "from langgraph.prebuilt import ToolNode\n",
    "from langchain_community.document_loaders import PyPDFLoader\n",
    "from langchain.text_splitter import RecursiveCharacterTextSplitter\n",
    "from langchain_chroma import Chroma\n",
    "from dashscope import TextEmbedding\n",
    "from langchain_community.embeddings import DashScopeEmbeddings\n",
    "import os\n",
    "\n",
    "load_dotenv()"
   ]
  },
  {
   "cell_type": "code",
   "execution_count": 2,
   "id": "d5f161fd",
   "metadata": {},
   "outputs": [
    {
     "name": "stdout",
     "output_type": "stream",
     "text": [
      "PDF has been loaded and has 9 pages\n"
     ]
    }
   ],
   "source": [
    "\n",
    "llm= ChatTongyi(model=\"qwen-plus\")\n",
    "embeddings = DashScopeEmbeddings(\n",
    "    model=\"text-embedding-v3\"\n",
    ")\n",
    "pdf_path=\"./Stock_Market_Performance_2024.pdf\"\n",
    "pdf_loader = PyPDFLoader(pdf_path)\n",
    "try:\n",
    "    pages = pdf_loader.load()\n",
    "    print(f\"PDF has been loaded and has {len(pages)} pages\")\n",
    "except Exception as e:\n",
    "    print(f\"Error loading PDF: {e}\")\n",
    "    raise\n"
   ]
  },
  {
   "cell_type": "code",
   "execution_count": 3,
   "id": "9cf7f42c",
   "metadata": {},
   "outputs": [],
   "source": [
    "class AgentState(TypedDict):\n",
    "    messages: Annotated[Sequence[BaseMessage], add_messages]"
   ]
  },
  {
   "cell_type": "code",
   "execution_count": 4,
   "id": "6f6a0bce",
   "metadata": {},
   "outputs": [],
   "source": [
    "text_splitter = RecursiveCharacterTextSplitter(\n",
    "    chunk_size=1000,\n",
    "    chunk_overlap=200\n",
    ")\n",
    "pages_split = text_splitter.split_documents(pages) # We now apply this to our pages\n",
    "persist_directory = r\"./stock_market\"\n",
    "collection_name = \"stock_market\"\n",
    "if not os.path.exists(persist_directory):\n",
    "    os.makedirs(persist_directory)"
   ]
  },
  {
   "cell_type": "code",
   "execution_count": 5,
   "id": "f2a31f9b",
   "metadata": {},
   "outputs": [
    {
     "name": "stdout",
     "output_type": "stream",
     "text": [
      "24\n"
     ]
    }
   ],
   "source": [
    "print(len(pages_split))"
   ]
  },
  {
   "cell_type": "code",
   "execution_count": 6,
   "id": "aff4af4f",
   "metadata": {},
   "outputs": [
    {
     "name": "stdout",
     "output_type": "stream",
     "text": [
      "Created ChromaDB vector store!\n"
     ]
    }
   ],
   "source": [
    "try:\n",
    "    # Here, we actually create the chroma database using our embeddigns model\n",
    "    vectorstore = Chroma.from_documents(\n",
    "        documents=pages_split,\n",
    "        embedding=embeddings,\n",
    "        persist_directory=persist_directory,\n",
    "        collection_name=collection_name\n",
    "    )\n",
    "    print(f\"Created ChromaDB vector store!\")\n",
    "    \n",
    "except Exception as e:\n",
    "    print(f\"Error setting up ChromaDB: {str(e)}\")\n",
    "    raise"
   ]
  },
  {
   "cell_type": "code",
   "execution_count": 7,
   "id": "3c8ecbd5",
   "metadata": {},
   "outputs": [],
   "source": [
    "retriever =vectorstore.as_retriever(search_kwargs={\"k\":5})\n",
    "@tool\n",
    "def retriever_tool(quary :str) ->str:\n",
    "    \"\"\"\n",
    "    This tool searches and returns the information from the Stock Market Performance 2024 document.\n",
    "    \"\"\"\n",
    "    docs=retriever.invoke(quary)\n",
    "    if not docs:\n",
    "        return \"I found no relevant information in the Stock Market Performance 2024 document.\"\n",
    "    results=[]\n",
    "    for i ,doc in enumerate(docs):\n",
    "        results.append(f\"Dcoument {i+1} :\\n {doc.page_content}\")\n",
    "    return \"\\n\\n\".join(results)\n",
    "\n",
    "def should_continue(state :AgentState):\n",
    "    \"\"\"check the last massage contants tool call\"\"\"\n",
    "    result=state[\"messages\"][-1]\n",
    "    return hasattr(result,\"tool_calls\") and len(result.tool_calls) > 0\n",
    "\n",
    "tools=[retriever_tool]\n",
    "\n",
    "llm=llm.bind_tools(tools)\n"
   ]
  },
  {
   "cell_type": "code",
   "execution_count": 8,
   "id": "e01e96f9",
   "metadata": {},
   "outputs": [],
   "source": [
    "system_prompt = \"\"\"\n",
    "You are an intelligent AI assistant who answers questions about Stock Market Performance in 2024 based on the PDF document loaded into your knowledge base.\n",
    "Use the retriever tool available to answer questions about the stock market performance data. You can make multiple calls if needed.\n",
    "If you need to look up some information before asking a follow up question, you are allowed to do that!\n",
    "Please always cite the specific parts of the documents you use in your answers.\n",
    "\"\"\"\n",
    "def our_agent(state: AgentState) -> AgentState:\n",
    "    \"\"\"call llm in graph\"\"\"\n",
    "    mess=state['messages']\n",
    "    mess=[SystemMessage(content=system_prompt)]+mess\n",
    "    mess=llm.invoke(mess)\n",
    "    return {\"messages\":[mess]}\n",
    "\n"
   ]
  },
  {
   "cell_type": "code",
   "execution_count": 9,
   "id": "96e9b721",
   "metadata": {},
   "outputs": [],
   "source": [
    "graph=StateGraph(AgentState)\n",
    "graph.add_node(\"agent\",our_agent)\n",
    "graph.add_node(\"tool_node\",ToolNode(tools))\n",
    "\n",
    "graph.add_edge(START,\"agent\")\n",
    "graph.add_conditional_edges(\"agent\",should_continue,{False:END,True:\"tool_node\"})\n",
    "graph.add_edge(\"tool_node\",\"agent\")\n",
    "agent=graph.compile()"
   ]
  },
  {
   "cell_type": "code",
   "execution_count": 10,
   "id": "12baa43f",
   "metadata": {},
   "outputs": [
    {
     "data": {
      "image/png": "[encoded data removed]",
      "text/plain": [
       "<IPython.core.display.Image object>"
      ]
     },
     "metadata": {},
     "output_type": "display_data"
    }
   ],
   "source": [
    "from IPython.display import display, Image\n",
    "\n",
    "display(Image(agent.get_graph().draw_mermaid_png()))\n"
   ]
  },
  {
   "cell_type": "code",
   "execution_count": 20,
   "id": "f26bb7de",
   "metadata": {},
   "outputs": [
    {
     "name": "stdout",
     "output_type": "stream",
     "text": [
      "\n",
      "=== RAG AGENT===\n",
      "我叫Bob\n",
      "\n",
      "=== ANSWER ===\n",
      "你好，Bob！如果你有关于2024年股市表现的问题，欢迎随时提问。我会根据加载的PDF文档为你提供准确的信息。请问有什么我可以帮助你的？\n",
      "\n",
      "\n",
      "现在，我叫什么名字？\n",
      "\n",
      "=== ANSWER ===\n",
      "你现在叫Bob。有什么关于2024年股市表现的问题需要我帮忙解答吗？\n",
      "\n",
      "\n",
      "这是关于哪个国家的股票？\n",
      "\n",
      "=== ANSWER ===\n",
      "这份文档主要讨论的是**美国**的股票市场表现。例如，文档中提到“2024年对股票来说是一个非常强劲的一年，美国股市延续了前一年的强劲涨势”，并且提到了S&P 500指数和Nasdaq Composite等美国市场的基准指数的表现。\n",
      "\n",
      "此外，文档还提到了一些国际案例，比如英国的Arm Holdings (ARM)，这是一家在2024年表现优异的半导体IP和芯片设计公司。因此，虽然文档聚焦于美国股市，但也涵盖了部分国际市场的例子。\n",
      "\n",
      "\n"
     ]
    }
   ],
   "source": [
    "import time\n",
    "print(\"\\n=== RAG AGENT===\")\n",
    "chat_history=[]\n",
    "while True:\n",
    "    user_input = input(\"\\nWhat is your question: \")\n",
    "    if user_input.lower() in ['exit', 'quit']:\n",
    "        break\n",
    "        \n",
    "    messages = [HumanMessage(content=user_input)] # converts back to a HumanMessage type\n",
    "    print(user_input)\n",
    "    chat_history=chat_history+messages\n",
    "    result =agent.invoke({\"messages\": chat_history})\n",
    "    \n",
    "    print(\"\\n=== ANSWER ===\")\n",
    "    print(result['messages'][-1].content+\"\\n\\n\")\n",
    "    chat_history.append(result[\"messages\"][-1])\n",
    "    time.sleep(1)"
   ]
  },
  {
   "cell_type": "code",
   "execution_count": 15,
   "id": "40236684",
   "metadata": {},
   "outputs": [
    {
     "name": "stdout",
     "output_type": "stream",
     "text": [
      "[HumanMessage(content='我叫什么名字', additional_kwargs={}, response_metadata={}, id='ae26ced4-085b-4c2e-a605-0c39d2149aa2'), AIMessage(content='您还没有告诉我您的名字呢！请告诉我，我将记得并使用它来更好地与您交流。', additional_kwargs={}, response_metadata={'model_name': 'qwen-plus', 'finish_reason': 'stop', 'request_id': '8f0c3ee4-50db-9b14-9232-dea43803b4c8', 'token_usage': {'input_tokens': 274, 'output_tokens': 22, 'total_tokens': 296, 'prompt_tokens_details': {'cached_tokens': 0}}}, id='run--bdc39c7d-67fe-4632-ac5d-6e8a92ce8794-0'), HumanMessage(content='我叫Bob', additional_kwargs={}, response_metadata={}, id='a56aac30-ff4c-4c63-bff2-839c04711f2d'), AIMessage(content='很高兴认识您，Bob！如果您有任何关于2024年股票市场表现的问题，请随时告诉我。', additional_kwargs={}, response_metadata={'model_name': 'qwen-plus', 'finish_reason': 'stop', 'request_id': '0ed952ea-bef5-9cfc-9cfa-8c2367260be4', 'token_usage': {'input_tokens': 309, 'output_tokens': 22, 'total_tokens': 331, 'prompt_tokens_details': {'cached_tokens': 256}}}, id='run--842c5a69-4811-43a9-90b7-43b4333f64f2-0'), HumanMessage(content='我叫什么名字', additional_kwargs={}, response_metadata={}, id='b43d020e-8c03-41f9-a074-f195202e74a9'), AIMessage(content='您叫Bob。如果您有更多问题或需要关于2024年股票市场表现的信息，请随时提问。', additional_kwargs={}, response_metadata={'model_name': 'qwen-plus', 'finish_reason': 'stop', 'request_id': 'a78f9ea5-223a-98a7-956e-8ad8a2208b89', 'token_usage': {'input_tokens': 345, 'output_tokens': 24, 'total_tokens': 369, 'prompt_tokens_details': {'cached_tokens': 0}}}, id='run--8a72698e-403c-4520-adc0-49ebcd277fe2-0')]\n"
     ]
    }
   ],
   "source": [
    "print(chat_history)"
   ]
  },
  {
   "cell_type": "code",
   "execution_count": null,
   "id": "03379d47",
   "metadata": {},
   "outputs": [],
   "source": []
  }
 ],
 "metadata": {
  "kernelspec": {
   "display_name": "langchain",
   "language": "python",
   "name": "python3"
  },
  "language_info": {
   "codemirror_mode": {
    "name": "ipython",
    "version": 3
   },
   "file_extension": ".py",
   "mimetype": "text/x-python",
   "name": "python",
   "nbconvert_exporter": "python",
   "pygments_lexer": "ipython3",
   "version": "3.11.13"
  }
 },
 "nbformat": 4,
 "nbformat_minor": 5
}
